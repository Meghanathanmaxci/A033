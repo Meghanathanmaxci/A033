{
 "cells": [
  {
   "cell_type": "markdown",
   "id": "afec3557",
   "metadata": {},
   "source": [
    "# WPP function that accepts a string and calculate the number of upper case and lower case letters.\n",
    "# Sample string :'The quick Brow Fox'\n",
    "# Expected output:\n",
    "\n",
    " #              No. of upper case characters:3\n",
    "  #             No. of lower case characters: 12"
   ]
  },
  {
   "cell_type": "code",
   "execution_count": 4,
   "id": "4abc3f6e",
   "metadata": {},
   "outputs": [],
   "source": [
    "def string():\n",
    "    m = input()\n",
    "    n = 0\n",
    "    o = 0\n",
    "    for i in m:\n",
    "        if i.isupper():\n",
    "            n+=1\n",
    "        if i.islower():\n",
    "            o+=1\n",
    "    print(\"No. of upper case letters : \",n)\n",
    "    print(\"No. of lower case letters : \",o)"
   ]
  },
  {
   "cell_type": "code",
   "execution_count": 5,
   "id": "fd4c5a4e",
   "metadata": {},
   "outputs": [
    {
     "name": "stdout",
     "output_type": "stream",
     "text": [
      "The quick Brow Fox\n",
      "No. of upper case letters :  3\n",
      "No. of lower case letters :  12\n"
     ]
    }
   ],
   "source": [
    "string()"
   ]
  },
  {
   "cell_type": "code",
   "execution_count": null,
   "id": "b35a7775",
   "metadata": {},
   "outputs": [],
   "source": []
  }
 ],
 "metadata": {
  "kernelspec": {
   "display_name": "Python 3 (ipykernel)",
   "language": "python",
   "name": "python3"
  },
  "language_info": {
   "codemirror_mode": {
    "name": "ipython",
    "version": 3
   },
   "file_extension": ".py",
   "mimetype": "text/x-python",
   "name": "python",
   "nbconvert_exporter": "python",
   "pygments_lexer": "ipython3",
   "version": "3.10.0"
  }
 },
 "nbformat": 4,
 "nbformat_minor": 5
}
